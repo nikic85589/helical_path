{
 "cells": [
  {
   "cell_type": "code",
   "execution_count": 2,
   "id": "58ab2e9e",
   "metadata": {},
   "outputs": [],
   "source": [
    "import numpy as np\n",
    "import matplotlib.pyplot as plt\n",
    "import random\n",
    "from mpl_toolkits.mplot3d import Axes3D\n",
    "import os\n",
    "import imageio\n",
    "import pandas"
   ]
  },
  {
   "cell_type": "code",
   "execution_count": null,
   "id": "bb081de9",
   "metadata": {},
   "outputs": [],
   "source": [
    "relativisticEnergy = 105000 #keV\n",
    "\n",
    "restMass = 511 #keV\n",
    "\n",
    "initialGamma = relativisticEnergy/restMass\n",
    "\n",
    "initialBeta = (1-(1/initialGamma)**2)**(1/2)\n",
    "\n",
    "theta = np.pi/4\n",
    "\n",
    "betaPerpendicular = initialBeta * np.sin(theta)\n",
    "\n",
    "betaParallel = initialBeta * np.cos(theta)\n",
    "\n",
    "magField = 0.34626038781 #keV^2\n",
    "\n",
    "omega = magField/(initialGamma * restMass) #keV\n",
    "\n",
    "helixRadius = betaPerpendicular/omega #1/keV\n",
    "\n",
    "def gammaList():\n",
    "    gammaLst = [initialGamma]\n",
    "    time = 0\n",
    "    helixRadiusUpdate = helixRadius\n",
    "    gammaUpdate = initialGamma\n",
    "    energy = relativisticEnergy\n",
    "    betaUpdate = initialBeta\n",
    "    newBetaPerpendicular = betaPerpendicular\n",
    "    newBetaParallel = betaParallel\n",
    "    omegaUpdate = omega\n",
    "    while(energy > 0):\n",
    "        dt = 1.0*10**5 #1/keV\n",
    "        omega_c = magField/restMass\n",
    "        power = ((2*omega_c**2)/3)*(newBetaPerpendicular**2/(1-betaUpdate**2))\n",
    "        emittedRadiation = ((2*omega_c**2)/3)*(newBetaPerpendicular**2/(1-betaUpdate**2)) * dt\n",
    "        time += dt\n",
    "        energy = energy - emittedRadiation\n",
    "        gammaUpdate = energy/restMass\n",
    "        gammaLst.append(gammaUpdate)\n",
    "        betaUpdate = (1-(1/(gammaUpdate))**2)**(1/2)\n",
    "        newBetaPerpendicular = betaUpdate * np.sin(theta)\n",
    "        newBetaParallel = betaUpdate * np.cos(theta)\n",
    "        omegaUpdate = magField/(gammaUpdate * restMass)\n",
    "        helixRadiusUpdate = newBetaPerpendicular/omegaUpdate\n",
    "        if emittedRadiation < 1:\n",
    "            break\n",
    "        \n",
    "    return gammaLst \n",
    "\n",
    "#print(gammaList())\n",
    "#print(f'this is the length of gamma list: {len(gammaList())}')\n",
    "\n",
    "def angDistPerGamma():\n",
    "    gammas = gammaList()\n",
    "    filenames = []\n",
    "    for g in gammas[0:20]:\n",
    "        thetas = np.arange(0, 2*np.pi, 0.01)\n",
    "        results = []\n",
    "        for ang in thetas:\n",
    "            beta = (1-(1/(g))**2)**(1/2)\n",
    "            betaPerp = beta * np.sin(ang)\n",
    "            betaParallel = beta * np.cos(ang)\n",
    "            g_parallel = 1 - (betaParallel * np.cos(ang))\n",
    "            f_num = 4*(g_parallel**2)*( ((1 + betaParallel**2)*(1+(np.cos(ang))**2)) \n",
    "                                    - 4*betaParallel*np.cos(ang)) - (1 - betaParallel**2 + 3*(betaPerp**2))*(betaPerp**2)*(np.sin(ang))**4\n",
    "            f_denom = 4*(g_parallel**2 - (betaPerp)**2*(np.sin(ang))**2)**(7/2)\n",
    "            f = f_num/f_denom\n",
    "            g_eqn = (3/4) * (1-beta**2)**2*f\n",
    "            results.append(g_eqn)\n",
    "        fig, ax = plt.subplots(subplot_kw={'projection': 'polar'})\n",
    "        ax.plot(thetas, results)\n",
    "        m = np.max(results) * 1.5\n",
    "        ax.set_rmax(m)\n",
    "        ax.set_rticks([m/4, m/2, m*0.75, m])  # Less radial ticks\n",
    "        ax.set_rlabel_position(-22.5)  # Move radial labels away from plotted line\n",
    "        ax.grid(True)\n",
    "        filenames.append(plt.savefig(f'{g}.png'))\n",
    "        plt.close()\n",
    "    return filenames\n",
    "filenames = angDistPerGamma()\n",
    "with imageio.get_writer('mygif.gif', mode='I') as writer:\n",
    "    for filename in filenames:\n",
    "        image = imageio.imread(filename)\n",
    "        writer.append_data(image) \n",
    "for filename in set(filenanmes):\n",
    "    os.remove(filename)\n",
    "\n",
    "\n",
    "\n",
    "    "
   ]
  },
  {
   "cell_type": "code",
   "execution_count": 7,
   "id": "4933be3f",
   "metadata": {},
   "outputs": [
    {
     "data": {
      "text/plain": [
       "3957"
      ]
     },
     "execution_count": 7,
     "metadata": {},
     "output_type": "execute_result"
    }
   ],
   "source": [
    "len(gammaList())"
   ]
  },
  {
   "cell_type": "code",
   "execution_count": null,
   "id": "9014d93e",
   "metadata": {},
   "outputs": [],
   "source": []
  }
 ],
 "metadata": {
  "kernelspec": {
   "display_name": "Python 3 (ipykernel)",
   "language": "python",
   "name": "python3"
  },
  "language_info": {
   "codemirror_mode": {
    "name": "ipython",
    "version": 3
   },
   "file_extension": ".py",
   "mimetype": "text/x-python",
   "name": "python",
   "nbconvert_exporter": "python",
   "pygments_lexer": "ipython3",
   "version": "3.9.13"
  }
 },
 "nbformat": 4,
 "nbformat_minor": 5
}
